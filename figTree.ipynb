{
 "cells": [
  {
   "cell_type": "code",
   "execution_count": 370,
   "outputs": [],
   "source": [
    "# we have six functions:\n",
    "# calcEntropy:  calculate the entropy\n",
    "# calcSexDisc ：#Calculate Disc(D)\n",
    "# majorityCnt:  Based on the most occur feature to choice\n",
    "# splitDataSet:  Based on the best choice, split the dataset.\n",
    "# chooseBestFeatureSplit:  Based on the FIG choice the best position.\n",
    "# createTree:  Build the decision tree.\n"
   ],
   "metadata": {
    "collapsed": false,
    "pycharm": {
     "name": "#%%\n"
    }
   }
  },
  {
   "cell_type": "code",
   "execution_count": 371,
   "outputs": [
    {
     "data": {
      "text/plain": "       age workclass  fnlwgt     education  education.num      marital.status  \\\n1       82   Private  132870       HS-grad              9             Widowed   \n3       54   Private  140359       7th-8th              4            Divorced   \n4       41   Private  264663  Some-college             10           Separated   \n5       34   Private  216864       HS-grad              9            Divorced   \n6       38   Private  150601          10th              6           Separated   \n...    ...       ...     ...           ...            ...                 ...   \n32556   22   Private  310152  Some-college             10       Never-married   \n32557   27   Private  257302    Assoc-acdm             12  Married-civ-spouse   \n32558   40   Private  154374       HS-grad              9  Married-civ-spouse   \n32559   58   Private  151910       HS-grad              9             Widowed   \n32560   22   Private  201490       HS-grad              9       Never-married   \n\n              occupation   relationship   race     sex  capital.gain  \\\n1        Exec-managerial  Not-in-family  White  Female             0   \n3      Machine-op-inspct      Unmarried  White  Female             0   \n4         Prof-specialty      Own-child  White  Female             0   \n5          Other-service      Unmarried  White  Female             0   \n6           Adm-clerical      Unmarried  White    Male             0   \n...                  ...            ...    ...     ...           ...   \n32556    Protective-serv  Not-in-family  White    Male             0   \n32557       Tech-support           Wife  White  Female             0   \n32558  Machine-op-inspct        Husband  White    Male             0   \n32559       Adm-clerical      Unmarried  White  Female             0   \n32560       Adm-clerical      Own-child  White    Male             0   \n\n       capital.loss  hours.per.week native.country income  \n1              4356              18  United-States  <=50K  \n3              3900              40  United-States  <=50K  \n4              3900              40  United-States  <=50K  \n5              3770              45  United-States  <=50K  \n6              3770              40  United-States  <=50K  \n...             ...             ...            ...    ...  \n32556             0              40  United-States  <=50K  \n32557             0              38  United-States  <=50K  \n32558             0              40  United-States   >50K  \n32559             0              40  United-States  <=50K  \n32560             0              20  United-States  <=50K  \n\n[30162 rows x 15 columns]",
      "text/html": "<div>\n<style scoped>\n    .dataframe tbody tr th:only-of-type {\n        vertical-align: middle;\n    }\n\n    .dataframe tbody tr th {\n        vertical-align: top;\n    }\n\n    .dataframe thead th {\n        text-align: right;\n    }\n</style>\n<table border=\"1\" class=\"dataframe\">\n  <thead>\n    <tr style=\"text-align: right;\">\n      <th></th>\n      <th>age</th>\n      <th>workclass</th>\n      <th>fnlwgt</th>\n      <th>education</th>\n      <th>education.num</th>\n      <th>marital.status</th>\n      <th>occupation</th>\n      <th>relationship</th>\n      <th>race</th>\n      <th>sex</th>\n      <th>capital.gain</th>\n      <th>capital.loss</th>\n      <th>hours.per.week</th>\n      <th>native.country</th>\n      <th>income</th>\n    </tr>\n  </thead>\n  <tbody>\n    <tr>\n      <th>1</th>\n      <td>82</td>\n      <td>Private</td>\n      <td>132870</td>\n      <td>HS-grad</td>\n      <td>9</td>\n      <td>Widowed</td>\n      <td>Exec-managerial</td>\n      <td>Not-in-family</td>\n      <td>White</td>\n      <td>Female</td>\n      <td>0</td>\n      <td>4356</td>\n      <td>18</td>\n      <td>United-States</td>\n      <td>&lt;=50K</td>\n    </tr>\n    <tr>\n      <th>3</th>\n      <td>54</td>\n      <td>Private</td>\n      <td>140359</td>\n      <td>7th-8th</td>\n      <td>4</td>\n      <td>Divorced</td>\n      <td>Machine-op-inspct</td>\n      <td>Unmarried</td>\n      <td>White</td>\n      <td>Female</td>\n      <td>0</td>\n      <td>3900</td>\n      <td>40</td>\n      <td>United-States</td>\n      <td>&lt;=50K</td>\n    </tr>\n    <tr>\n      <th>4</th>\n      <td>41</td>\n      <td>Private</td>\n      <td>264663</td>\n      <td>Some-college</td>\n      <td>10</td>\n      <td>Separated</td>\n      <td>Prof-specialty</td>\n      <td>Own-child</td>\n      <td>White</td>\n      <td>Female</td>\n      <td>0</td>\n      <td>3900</td>\n      <td>40</td>\n      <td>United-States</td>\n      <td>&lt;=50K</td>\n    </tr>\n    <tr>\n      <th>5</th>\n      <td>34</td>\n      <td>Private</td>\n      <td>216864</td>\n      <td>HS-grad</td>\n      <td>9</td>\n      <td>Divorced</td>\n      <td>Other-service</td>\n      <td>Unmarried</td>\n      <td>White</td>\n      <td>Female</td>\n      <td>0</td>\n      <td>3770</td>\n      <td>45</td>\n      <td>United-States</td>\n      <td>&lt;=50K</td>\n    </tr>\n    <tr>\n      <th>6</th>\n      <td>38</td>\n      <td>Private</td>\n      <td>150601</td>\n      <td>10th</td>\n      <td>6</td>\n      <td>Separated</td>\n      <td>Adm-clerical</td>\n      <td>Unmarried</td>\n      <td>White</td>\n      <td>Male</td>\n      <td>0</td>\n      <td>3770</td>\n      <td>40</td>\n      <td>United-States</td>\n      <td>&lt;=50K</td>\n    </tr>\n    <tr>\n      <th>...</th>\n      <td>...</td>\n      <td>...</td>\n      <td>...</td>\n      <td>...</td>\n      <td>...</td>\n      <td>...</td>\n      <td>...</td>\n      <td>...</td>\n      <td>...</td>\n      <td>...</td>\n      <td>...</td>\n      <td>...</td>\n      <td>...</td>\n      <td>...</td>\n      <td>...</td>\n    </tr>\n    <tr>\n      <th>32556</th>\n      <td>22</td>\n      <td>Private</td>\n      <td>310152</td>\n      <td>Some-college</td>\n      <td>10</td>\n      <td>Never-married</td>\n      <td>Protective-serv</td>\n      <td>Not-in-family</td>\n      <td>White</td>\n      <td>Male</td>\n      <td>0</td>\n      <td>0</td>\n      <td>40</td>\n      <td>United-States</td>\n      <td>&lt;=50K</td>\n    </tr>\n    <tr>\n      <th>32557</th>\n      <td>27</td>\n      <td>Private</td>\n      <td>257302</td>\n      <td>Assoc-acdm</td>\n      <td>12</td>\n      <td>Married-civ-spouse</td>\n      <td>Tech-support</td>\n      <td>Wife</td>\n      <td>White</td>\n      <td>Female</td>\n      <td>0</td>\n      <td>0</td>\n      <td>38</td>\n      <td>United-States</td>\n      <td>&lt;=50K</td>\n    </tr>\n    <tr>\n      <th>32558</th>\n      <td>40</td>\n      <td>Private</td>\n      <td>154374</td>\n      <td>HS-grad</td>\n      <td>9</td>\n      <td>Married-civ-spouse</td>\n      <td>Machine-op-inspct</td>\n      <td>Husband</td>\n      <td>White</td>\n      <td>Male</td>\n      <td>0</td>\n      <td>0</td>\n      <td>40</td>\n      <td>United-States</td>\n      <td>&gt;50K</td>\n    </tr>\n    <tr>\n      <th>32559</th>\n      <td>58</td>\n      <td>Private</td>\n      <td>151910</td>\n      <td>HS-grad</td>\n      <td>9</td>\n      <td>Widowed</td>\n      <td>Adm-clerical</td>\n      <td>Unmarried</td>\n      <td>White</td>\n      <td>Female</td>\n      <td>0</td>\n      <td>0</td>\n      <td>40</td>\n      <td>United-States</td>\n      <td>&lt;=50K</td>\n    </tr>\n    <tr>\n      <th>32560</th>\n      <td>22</td>\n      <td>Private</td>\n      <td>201490</td>\n      <td>HS-grad</td>\n      <td>9</td>\n      <td>Never-married</td>\n      <td>Adm-clerical</td>\n      <td>Own-child</td>\n      <td>White</td>\n      <td>Male</td>\n      <td>0</td>\n      <td>0</td>\n      <td>20</td>\n      <td>United-States</td>\n      <td>&lt;=50K</td>\n    </tr>\n  </tbody>\n</table>\n<p>30162 rows × 15 columns</p>\n</div>"
     },
     "execution_count": 371,
     "metadata": {},
     "output_type": "execute_result"
    }
   ],
   "source": [
    "import numpy as np\n",
    "#dataset\n",
    "#KDD Census-Income target(binary >50k or <=50k)\n",
    "import pandas as pd\n",
    "dt = pd.read_csv('adult.csv')\n",
    "features = [\"age\",\"workclass\",\"fnlwgt\",\"education\",\"education.num\",\"marital.status\",\"occupation\",\"relationship\",\"race\",\"sex\",\"capital.gain\",\"capital.loss\",\"hours.per.week\",\"native.country\",\"income\"]\n",
    "da = dt.replace('?',np.nan,inplace=False)\n",
    "dataset = da.dropna(axis=0,how='any',thresh = None,subset= None,inplace=False)\n",
    "X = dataset.iloc[:, :14].values\n",
    "dataset"
   ],
   "metadata": {
    "collapsed": false,
    "pycharm": {
     "name": "#%%\n"
    }
   }
  },
  {
   "cell_type": "code",
   "execution_count": 372,
   "outputs": [],
   "source": [
    "from math import log\n",
    "\n",
    "def calcEntropy(date):\n",
    "\tnum_entries = len(date)\n",
    "\tlabel_counts = {}\t\t\t\t\t\t\t\t#Saves a dictionary of the number of occurrences of each label\n",
    "\tfor featVec in date:\n",
    "\t\tcurrentLabel = featVec[-1]\t\t\t\t\t#get Label information\n",
    "\t\tif currentLabel not in label_counts.keys():\n",
    "\t\t\tlabel_counts[currentLabel] = 0\n",
    "\t\tlabel_counts[currentLabel] += 1\t\t\t\t#label quantity\n",
    "\tcalc_ent = 0.0\t\t\t\t\t\t\t\t\t#entropy\n",
    "\tfor key in label_counts:\n",
    "\t\tprob = float(label_counts[key]) / num_entries\t#calculate probability\n",
    "\t\tcalc_ent -= prob * log(prob, 2)\t\t\t\t\t#Calculate entropy\n",
    "\t\treturn calc_ent\n"
   ],
   "metadata": {
    "collapsed": false,
    "pycharm": {
     "name": "#%%\n"
    }
   }
  },
  {
   "cell_type": "code",
   "execution_count": 373,
   "outputs": [],
   "source": [
    "def calcSexDisc(data):\t\t\t\t\t\t\t\t#Calculate Disc(D)\n",
    "\tnum_entries = len(data)\n",
    "\tmale_greater50 = 0\n",
    "\tfemale_greater50 = 0\n",
    "\tmale_count = 0\n",
    "\tfemale_count = 0\n",
    "\tfor featVec in data:\n",
    "\t\tfor item in featVec:\n",
    "\t\t\tif item == 'Male':\n",
    "\t\t\t\tmale_count += 1\n",
    "\t\t\t\tif item == 'Male' and featVec[-1] =='>50K':\n",
    "\t\t\t\t\tmale_greater50 += 1\n",
    "\t\t\telif item == 'Female':\n",
    "\t\t\t\tfemale_count += 1\n",
    "\t\t\t\tif item == 'Female' and featVec[-1] == '>50K':\n",
    "\t\t\t\t\tfemale_greater50 += 1\n",
    "\tif male_count == 0 or female_count == 0 :\n",
    "\t\treturn 0\n",
    "\tdisc_female = (male_greater50 / male_count) / (male_count / num_entries) - (female_greater50 / female_count) / (female_count / num_entries)\n",
    "\treturn disc_female\n"
   ],
   "metadata": {
    "collapsed": false,
    "pycharm": {
     "name": "#%%\n"
    }
   }
  },
  {
   "cell_type": "code",
   "execution_count": 374,
   "outputs": [],
   "source": [
    "import operator\n",
    "\n",
    "def majorityCnt(classList):\n",
    "\tclassCount = {}\n",
    "\tfor vote in classList:\t\t\t\t\t\t\t#Counts the number of occurrences of each element in the classList\n",
    "\t\tif vote not in classCount.keys():\n",
    "\t\t\tclassCount[vote] = 0\n",
    "\t\tclassCount[vote] += 1\n",
    "\t#Sort in descending order according to the dict value\n",
    "\tsorted_class_count = sorted(classCount.items(), key = operator.itemgetter(1), reverse = True)\n",
    "\treturn sorted_class_count[0][0]\t\t\t\t\t#Returns the most frequent occurrence of the element in the classList\n"
   ],
   "metadata": {
    "collapsed": false,
    "pycharm": {
     "name": "#%%\n"
    }
   }
  },
  {
   "cell_type": "code",
   "execution_count": 375,
   "outputs": [],
   "source": [
    "def chooseBestFeatureSplit(dataset):\n",
    "\tnum_features = len(dataset[0]) - 1\t\t\t\t\t#Feature quantity\n",
    "\tbase_entropy = calcEntropy(dataset) \t\t\t\t#Calculate entropy when you're not doing anything\n",
    "\tbase_disc = calcSexDisc(dataset)\n",
    "\tbest_info_gain = 0.0\n",
    "\tbest_feature = -1\t\t\t\t\t\t\t\t\t#index of the optimal feature\n",
    "\tbest_fig = 0.0\n",
    "\tfor i in range(num_features): \t\t\t\t\t\t#traverse all feature\n",
    "\t\tfeat_list = [example[i] for example in dataset]\n",
    "\t\tunique_vals = set(feat_list)     \t\t\t\t\t   #Create a set {} with non-repeatable elements\n",
    "\t\tnew_entropy = 0.0\n",
    "\t\tnew_disc = 0.0\n",
    "\t\tfor value in unique_vals:\n",
    "\t\t\tsub_data_set = splitDataSet(dataset, i, value) \t\t#dataset after split\n",
    "\t\t\tprob = len(sub_data_set) / float(len(dataset))\n",
    "\t\t\tnew_entropy += prob * calcEntropy(sub_data_set) \t#Calculate entropy for each feature\n",
    "\t\t\tnew_disc += prob * abs(calcSexDisc(sub_data_set))\n",
    "\t\tinfo_gain = base_entropy - new_entropy \t\t\t\t\t#information gain\n",
    "\t\tfair_gain = abs(base_disc) - new_disc\n",
    "\t\t#print(\"第%d个特征的增益为%.3f\" % (i, info_gain))\t\t\t#info gain per feature\n",
    "\t\tif info_gain > best_info_gain:\n",
    "\t\t\tbest_info_gain = info_gain \t\t\t\t\t\t\t#Update the info gain to find the maximum information gain\n",
    "\t\t\tbest_feature = i\n",
    "\t\tif fair_gain != 0:\n",
    "\t\t\tfi_gain = fair_gain * best_info_gain\n",
    "\t\telse:\n",
    "\t\t\tfi_gain = best_info_gain\n",
    "\t\tif fi_gain > best_fig:\n",
    "\t\t\tbest_fig = fi_gain\n",
    "\t\t\tbest_feature = i\n",
    "\treturn best_feature"
   ],
   "metadata": {
    "collapsed": false,
    "pycharm": {
     "name": "#%%\n"
    }
   }
  },
  {
   "cell_type": "code",
   "execution_count": 376,
   "outputs": [],
   "source": [
    "def createTree(dataset, labels, featLabels):\n",
    "\tclass_list = [example[-1] for example in dataset]\n",
    "\tif class_list.count(class_list[0]) == len(class_list):\t\t#If the categories are exactly the same, the division stops\n",
    "\t\treturn class_list[0]\n",
    "\tif len(dataset[0]) == 1 or len(labels) == 0:\t\t\t    #Returns the class label that appears most often\n",
    "\t\treturn majorityCnt(class_list)\n",
    "\tbest_feat = chooseBestFeatureSplit(dataset)\t\t\t\t    #Select the best feature\n",
    "\tbest_feat_label = labels[best_feat]\t\t\t\t\t\t\t#Select the best label\n",
    "\tfeatLabels.append(best_feat_label)\t\t\t\t\t\t\t#root\n",
    "\tmy_tree = {best_feat_label:{}}\n",
    "\tdel(labels[best_feat])\t\t\t\t\t\t\t\t\t\t#remove used feature labels\n",
    "\tfeat_values = [example[best_feat] for example in dataset]\t#Get the labels values of all the best features in the training set\n",
    "\tunique_vals = set(feat_values)\t\t\t\t\t\t\t\t#Remove duplicate labels values\n",
    "\tfor value in unique_vals:\n",
    "\t\tsub_labels = labels[:]\n",
    "\t\tmy_tree[best_feat_label][value] = createTree(splitDataSet(dataset, best_feat, value), sub_labels, featLabels)  #recursion\n",
    "\treturn my_tree"
   ],
   "metadata": {
    "collapsed": false,
    "pycharm": {
     "name": "#%%\n"
    }
   }
  },
  {
   "cell_type": "code",
   "execution_count": 377,
   "outputs": [],
   "source": [
    "def splitDataSet(dataset, target, value):\n",
    "\tret_data_set = []\n",
    "\tfor feat_vec in dataset:\n",
    "\t\tif feat_vec[target] == value:\n",
    "\t\t\treduced_feat_vec = feat_vec[:target]\t\t\t\t#remove target feature\n",
    "\t\t\treduced_feat_vec.extend(feat_vec[target+1:])\n",
    "\t\t\tret_data_set.append(reduced_feat_vec)\n",
    "\treturn ret_data_set\n"
   ],
   "metadata": {
    "collapsed": false,
    "pycharm": {
     "name": "#%%\n"
    }
   }
  },
  {
   "cell_type": "code",
   "execution_count": 378,
   "outputs": [],
   "source": [
    "\n",
    "X_train = X[1000:]\n",
    "X_test = X[:1000]\n",
    "featLabels=[]\n",
    "decisiontree = createTree(X_train.tolist(), features,featLabels)\n",
    "\n"
   ],
   "metadata": {
    "collapsed": false,
    "pycharm": {
     "name": "#%%\n"
    }
   }
  },
  {
   "cell_type": "code",
   "execution_count": 378,
   "outputs": [],
   "source": [
    "\n"
   ],
   "metadata": {
    "collapsed": false,
    "pycharm": {
     "name": "#%%\n"
    }
   }
  }
 ],
 "metadata": {
  "kernelspec": {
   "display_name": "Python 3",
   "language": "python",
   "name": "python3"
  },
  "language_info": {
   "codemirror_mode": {
    "name": "ipython",
    "version": 2
   },
   "file_extension": ".py",
   "mimetype": "text/x-python",
   "name": "python",
   "nbconvert_exporter": "python",
   "pygments_lexer": "ipython2",
   "version": "2.7.6"
  }
 },
 "nbformat": 4,
 "nbformat_minor": 0
}