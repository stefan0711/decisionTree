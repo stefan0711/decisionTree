{
 "cells": [
  {
   "cell_type": "code",
   "execution_count": 20,
   "outputs": [],
   "source": [
    "# we have six functions:\n",
    "# calcEntropy:  calculate the entropy\n",
    "# calcSexDisc ：#Calculate Disc(D)\n",
    "# majorityCnt:  Based on the most occur feature to choice\n",
    "# splitDataSet:  Based on the best choice, split the dataset.\n",
    "# chooseBestFeatureSplit:  Based on the FIG choice the best position.\n",
    "# createTree:  Build the decision tree.\n"
   ],
   "metadata": {
    "collapsed": false,
    "pycharm": {
     "name": "#%%\n"
    }
   }
  },
  {
   "cell_type": "code",
   "execution_count": 21,
   "outputs": [
    {
     "data": {
      "text/plain": "       age workclass  fnlwgt     education  education.num      marital.status  \\\n1        3   Private       1       HS-grad              0             Widowed   \n3        3   Private       1       7th-8th              0            Divorced   \n4        2   Private       3  Some-college              1           Separated   \n5        1   Private       2       HS-grad              0            Divorced   \n6        2   Private       1          10th              0           Separated   \n...    ...       ...     ...           ...            ...                 ...   \n32556    0   Private       3  Some-college              1       Never-married   \n32557    0   Private       3    Assoc-acdm              2  Married-civ-spouse   \n32558    2   Private       1       HS-grad              0  Married-civ-spouse   \n32559    3   Private       1       HS-grad              0             Widowed   \n32560    0   Private       2       HS-grad              0       Never-married   \n\n              occupation   relationship   race     sex  capital.gain  \\\n1        Exec-managerial  Not-in-family  White  Female             0   \n3      Machine-op-inspct      Unmarried  White  Female             0   \n4         Prof-specialty      Own-child  White  Female             0   \n5          Other-service      Unmarried  White  Female             0   \n6           Adm-clerical      Unmarried  White    Male             0   \n...                  ...            ...    ...     ...           ...   \n32556    Protective-serv  Not-in-family  White    Male             0   \n32557       Tech-support           Wife  White  Female             0   \n32558  Machine-op-inspct        Husband  White    Male             0   \n32559       Adm-clerical      Unmarried  White  Female             0   \n32560       Adm-clerical      Own-child  White    Male             0   \n\n       capital.loss  hours.per.week native.country income  \n1                 0               0  United-States  <=50K  \n3                 0               0  United-States  <=50K  \n4                 0               0  United-States  <=50K  \n5                 0               1  United-States  <=50K  \n6                 0               0  United-States  <=50K  \n...             ...             ...            ...    ...  \n32556             0               0  United-States  <=50K  \n32557             0               0  United-States  <=50K  \n32558             0               0  United-States   >50K  \n32559             0               0  United-States  <=50K  \n32560             0               0  United-States  <=50K  \n\n[30162 rows x 15 columns]",
      "text/html": "<div>\n<style scoped>\n    .dataframe tbody tr th:only-of-type {\n        vertical-align: middle;\n    }\n\n    .dataframe tbody tr th {\n        vertical-align: top;\n    }\n\n    .dataframe thead th {\n        text-align: right;\n    }\n</style>\n<table border=\"1\" class=\"dataframe\">\n  <thead>\n    <tr style=\"text-align: right;\">\n      <th></th>\n      <th>age</th>\n      <th>workclass</th>\n      <th>fnlwgt</th>\n      <th>education</th>\n      <th>education.num</th>\n      <th>marital.status</th>\n      <th>occupation</th>\n      <th>relationship</th>\n      <th>race</th>\n      <th>sex</th>\n      <th>capital.gain</th>\n      <th>capital.loss</th>\n      <th>hours.per.week</th>\n      <th>native.country</th>\n      <th>income</th>\n    </tr>\n  </thead>\n  <tbody>\n    <tr>\n      <th>1</th>\n      <td>3</td>\n      <td>Private</td>\n      <td>1</td>\n      <td>HS-grad</td>\n      <td>0</td>\n      <td>Widowed</td>\n      <td>Exec-managerial</td>\n      <td>Not-in-family</td>\n      <td>White</td>\n      <td>Female</td>\n      <td>0</td>\n      <td>0</td>\n      <td>0</td>\n      <td>United-States</td>\n      <td>&lt;=50K</td>\n    </tr>\n    <tr>\n      <th>3</th>\n      <td>3</td>\n      <td>Private</td>\n      <td>1</td>\n      <td>7th-8th</td>\n      <td>0</td>\n      <td>Divorced</td>\n      <td>Machine-op-inspct</td>\n      <td>Unmarried</td>\n      <td>White</td>\n      <td>Female</td>\n      <td>0</td>\n      <td>0</td>\n      <td>0</td>\n      <td>United-States</td>\n      <td>&lt;=50K</td>\n    </tr>\n    <tr>\n      <th>4</th>\n      <td>2</td>\n      <td>Private</td>\n      <td>3</td>\n      <td>Some-college</td>\n      <td>1</td>\n      <td>Separated</td>\n      <td>Prof-specialty</td>\n      <td>Own-child</td>\n      <td>White</td>\n      <td>Female</td>\n      <td>0</td>\n      <td>0</td>\n      <td>0</td>\n      <td>United-States</td>\n      <td>&lt;=50K</td>\n    </tr>\n    <tr>\n      <th>5</th>\n      <td>1</td>\n      <td>Private</td>\n      <td>2</td>\n      <td>HS-grad</td>\n      <td>0</td>\n      <td>Divorced</td>\n      <td>Other-service</td>\n      <td>Unmarried</td>\n      <td>White</td>\n      <td>Female</td>\n      <td>0</td>\n      <td>0</td>\n      <td>1</td>\n      <td>United-States</td>\n      <td>&lt;=50K</td>\n    </tr>\n    <tr>\n      <th>6</th>\n      <td>2</td>\n      <td>Private</td>\n      <td>1</td>\n      <td>10th</td>\n      <td>0</td>\n      <td>Separated</td>\n      <td>Adm-clerical</td>\n      <td>Unmarried</td>\n      <td>White</td>\n      <td>Male</td>\n      <td>0</td>\n      <td>0</td>\n      <td>0</td>\n      <td>United-States</td>\n      <td>&lt;=50K</td>\n    </tr>\n    <tr>\n      <th>...</th>\n      <td>...</td>\n      <td>...</td>\n      <td>...</td>\n      <td>...</td>\n      <td>...</td>\n      <td>...</td>\n      <td>...</td>\n      <td>...</td>\n      <td>...</td>\n      <td>...</td>\n      <td>...</td>\n      <td>...</td>\n      <td>...</td>\n      <td>...</td>\n      <td>...</td>\n    </tr>\n    <tr>\n      <th>32556</th>\n      <td>0</td>\n      <td>Private</td>\n      <td>3</td>\n      <td>Some-college</td>\n      <td>1</td>\n      <td>Never-married</td>\n      <td>Protective-serv</td>\n      <td>Not-in-family</td>\n      <td>White</td>\n      <td>Male</td>\n      <td>0</td>\n      <td>0</td>\n      <td>0</td>\n      <td>United-States</td>\n      <td>&lt;=50K</td>\n    </tr>\n    <tr>\n      <th>32557</th>\n      <td>0</td>\n      <td>Private</td>\n      <td>3</td>\n      <td>Assoc-acdm</td>\n      <td>2</td>\n      <td>Married-civ-spouse</td>\n      <td>Tech-support</td>\n      <td>Wife</td>\n      <td>White</td>\n      <td>Female</td>\n      <td>0</td>\n      <td>0</td>\n      <td>0</td>\n      <td>United-States</td>\n      <td>&lt;=50K</td>\n    </tr>\n    <tr>\n      <th>32558</th>\n      <td>2</td>\n      <td>Private</td>\n      <td>1</td>\n      <td>HS-grad</td>\n      <td>0</td>\n      <td>Married-civ-spouse</td>\n      <td>Machine-op-inspct</td>\n      <td>Husband</td>\n      <td>White</td>\n      <td>Male</td>\n      <td>0</td>\n      <td>0</td>\n      <td>0</td>\n      <td>United-States</td>\n      <td>&gt;50K</td>\n    </tr>\n    <tr>\n      <th>32559</th>\n      <td>3</td>\n      <td>Private</td>\n      <td>1</td>\n      <td>HS-grad</td>\n      <td>0</td>\n      <td>Widowed</td>\n      <td>Adm-clerical</td>\n      <td>Unmarried</td>\n      <td>White</td>\n      <td>Female</td>\n      <td>0</td>\n      <td>0</td>\n      <td>0</td>\n      <td>United-States</td>\n      <td>&lt;=50K</td>\n    </tr>\n    <tr>\n      <th>32560</th>\n      <td>0</td>\n      <td>Private</td>\n      <td>2</td>\n      <td>HS-grad</td>\n      <td>0</td>\n      <td>Never-married</td>\n      <td>Adm-clerical</td>\n      <td>Own-child</td>\n      <td>White</td>\n      <td>Male</td>\n      <td>0</td>\n      <td>0</td>\n      <td>0</td>\n      <td>United-States</td>\n      <td>&lt;=50K</td>\n    </tr>\n  </tbody>\n</table>\n<p>30162 rows × 15 columns</p>\n</div>"
     },
     "execution_count": 21,
     "metadata": {},
     "output_type": "execute_result"
    }
   ],
   "source": [
    "import numpy as np\n",
    "#dataset\n",
    "#KDD Census-Income target(binary >50k or <=50k)\n",
    "import pandas as pd\n",
    "data = pd.read_csv('adult.csv')\n",
    "data_clean = data.replace('?', np.nan).dropna()\n",
    "features = [\"age\", \"workclass\", \"fnlwgt\", \"education\", \"education.num\", \"marital.status\", \"occupation\", \"relationship\",\n",
    "            \"race\", \"sex\", \"capital.gain\", \"capital.loss\", \"hours.per.week\", \"native.country\", \"income\"]\n",
    "continuous_features = ['age', 'fnlwgt', 'education.num', 'capital.gain', 'capital.loss', 'hours.per.week']\n",
    "for feature in continuous_features:\n",
    "    data_clean[feature] = pd.qcut(data_clean[feature], q=4, labels=False, duplicates='drop')\n",
    "X = data_clean.iloc[:, :15].values\n",
    "data_clean"
   ],
   "metadata": {
    "collapsed": false,
    "pycharm": {
     "name": "#%%\n"
    }
   }
  },
  {
   "cell_type": "code",
   "execution_count": 22,
   "outputs": [],
   "source": [
    "from math import log\n",
    "\n",
    "def calcEntropy(date):\n",
    "\tnum_entries = len(date)\n",
    "\tlabel_counts = {}\t\t\t\t\t\t\t\t#Saves a dictionary of the number of occurrences of each label\n",
    "\tfor featVec in date:\n",
    "\t\tcurrentLabel = featVec[-1]\t\t\t\t\t#get Label information\n",
    "\t\tif currentLabel not in label_counts.keys():\n",
    "\t\t\tlabel_counts[currentLabel] = 0\n",
    "\t\tlabel_counts[currentLabel] += 1\t\t\t\t#label quantity\n",
    "\tcalc_ent = 0.0\t\t\t\t\t\t\t\t\t#entropy\n",
    "\tfor key in label_counts:\n",
    "\t\tprob = float(label_counts[key]) / num_entries\t#calculate probability\n",
    "\t\tcalc_ent -= prob * log(prob, 2)\t\t\t\t\t#Calculate entropy\n",
    "\t\treturn calc_ent\n"
   ],
   "metadata": {
    "collapsed": false,
    "pycharm": {
     "name": "#%%\n"
    }
   }
  },
  {
   "cell_type": "code",
   "execution_count": 23,
   "outputs": [],
   "source": [
    "def calcSexDisc(data):\t\t\t\t\t\t\t\t#Calculate Disc(D)\n",
    "\tmale_greater50 = 0\n",
    "\tfemale_greater50 = 0\n",
    "\tmale_rej = 0\n",
    "\tfemale_rej = 0\n",
    "\tfor featVec in data:\n",
    "\t\tfor item in featVec:\n",
    "\t\t\tif item == 'Male':\n",
    "\t\t\t\tif  featVec[-1] =='>50K':\n",
    "\t\t\t\t\tmale_greater50 += 1\n",
    "\t\t\t\tif  featVec[-1] =='<=50K':\n",
    "\t\t\t\t\tmale_rej += 1\n",
    "\t\t\telif item == 'Female':\n",
    "\t\t\t\tif  featVec[-1] == '>50K':\n",
    "\t\t\t\t\tfemale_greater50 += 1\n",
    "\t\t\t\tif  featVec[-1] == '<=50K':\n",
    "\t\t\t\t\tfemale_rej += 1\n",
    "\tif (male_rej + male_greater50) == 0 or (female_rej + female_greater50) == 0 :\n",
    "\t\treturn 0\n",
    "\telse:\n",
    "\t\tdisc_female = male_greater50 / (male_rej + male_greater50) - female_greater50 / (female_greater50 + female_rej)\n",
    "\treturn disc_female\n"
   ],
   "metadata": {
    "collapsed": false,
    "pycharm": {
     "name": "#%%\n"
    }
   }
  },
  {
   "cell_type": "code",
   "execution_count": 24,
   "outputs": [],
   "source": [
    "import operator\n",
    "\n",
    "def majorityCnt(classList):\n",
    "\tclassCount = {}\n",
    "\tfor vote in classList:\t\t\t\t\t\t\t#Counts the number of occurrences of each element in the classList\n",
    "\t\tif vote not in classCount.keys():\n",
    "\t\t\tclassCount[vote] = 0\n",
    "\t\tclassCount[vote] += 1\n",
    "\t#Sort in descending order according to the dict value\n",
    "\tsorted_class_count = sorted(classCount.items(), key = operator.itemgetter(1), reverse = True)\n",
    "\treturn sorted_class_count[0][0]\t\t\t\t\t#Returns the most frequent occurrence of the element in the classList\n"
   ],
   "metadata": {
    "collapsed": false,
    "pycharm": {
     "name": "#%%\n"
    }
   }
  },
  {
   "cell_type": "code",
   "execution_count": 25,
   "outputs": [],
   "source": [
    "def chooseBestFeatureSplit(dataset):\n",
    "\tnum_features = len(dataset[0]) - 1\t\t\t\t\t#Feature quantity\n",
    "\tbase_entropy = calcEntropy(dataset) \t\t\t\t#Calculate entropy when you're not doing anything\n",
    "\tbase_disc = calcSexDisc(dataset)\n",
    "\tbest_feature = -1\t\t\t\t\t\t\t\t\t#index of the optimal feature\n",
    "\tbest_fig = 0.0\n",
    "\tfor i in range(num_features): \t\t\t\t\t\t#traverse all feature\n",
    "\t\tfeat_list = [example[i] for example in dataset]\n",
    "\t\tunique_vals = set(feat_list)     \t\t\t\t\t   #Create a set {} with non-repeatable elements\n",
    "\t\tnew_entropy = 0.0\n",
    "\t\tnew_disc = 0.0\n",
    "\t\tfor value in unique_vals:\n",
    "\t\t\tsub_data_set = splitDataSet(dataset, i, value) \t\t#dataset after split\n",
    "\t\t\tprob = len(sub_data_set) / float(len(dataset))\n",
    "\t\t\tnew_entropy += prob * calcEntropy(sub_data_set) \t#Calculate entropy for each feature\n",
    "\t\t\tnew_disc += prob * abs(calcSexDisc(sub_data_set))\n",
    "\t\tinfo_gain = base_entropy - new_entropy \t\t\t\t\t#information gain\n",
    "\t\tfair_gain = abs(base_disc) - new_disc\n",
    "\t\t#print(\"第%d个特征的增益为%.3f\" % (i, info_gain))\t\t\t#info gain per feature\n",
    "\t\tif fair_gain != 0:\n",
    "\t\t\tfi_gain = fair_gain * info_gain\n",
    "\t\telse:\n",
    "\t\t\tfi_gain = info_gain\n",
    "\t\tif fi_gain > best_fig:\n",
    "\t\t\tbest_fig = fi_gain\n",
    "\t\t\tbest_feature = i\n",
    "\treturn best_feature"
   ],
   "metadata": {
    "collapsed": false,
    "pycharm": {
     "name": "#%%\n"
    }
   }
  },
  {
   "cell_type": "code",
   "execution_count": 26,
   "outputs": [],
   "source": [
    "def createTree(dataset, labels, featLabels):\n",
    "\tclass_list = [example[-1] for example in dataset]\n",
    "\tif class_list.count(class_list[0]) == len(class_list):\t\t#If the categories are exactly the same, the division stops\n",
    "\t\treturn class_list[0]\n",
    "\tif len(dataset[0]) == 1 or len(labels) == 0:\t\t\t    #Returns the class label that appears most often\n",
    "\t\treturn majorityCnt(class_list)\n",
    "\tbest_feat = chooseBestFeatureSplit(dataset)\t\t\t\t    #Select the best feature\n",
    "\tbest_feat_label = labels[best_feat]\t\t\t\t\t\t\t#Select the best label\n",
    "\tfeatLabels.append(best_feat_label)\t\t\t\t\t\t\t#root\n",
    "\tmy_tree = {best_feat_label:{}}\n",
    "\tdel(labels[best_feat])\t\t\t\t\t\t\t\t\t\t#remove used feature labels\n",
    "\tfeat_values = [example[best_feat] for example in dataset]\t#Get the labels values of all the best features in the training set\n",
    "\tunique_vals = set(feat_values)\t\t\t\t\t\t\t\t#Remove duplicate labels values\n",
    "\tfor value in unique_vals:\n",
    "\t\tsub_labels = labels[:]\n",
    "\t\tmy_tree[best_feat_label][value] = createTree(splitDataSet(dataset, best_feat, value), sub_labels, featLabels)  #recursion\n",
    "\treturn my_tree"
   ],
   "metadata": {
    "collapsed": false,
    "pycharm": {
     "name": "#%%\n"
    }
   }
  },
  {
   "cell_type": "code",
   "execution_count": 27,
   "outputs": [],
   "source": [
    "def splitDataSet(dataset, target, value):\n",
    "\tret_data_set = []\n",
    "\tfor feat_vec in dataset:\n",
    "\t\tif feat_vec[target] == value:\n",
    "\t\t\treduced_feat_vec = feat_vec[:target]\t\t\t\t#remove target feature\n",
    "\t\t\treduced_feat_vec.extend(feat_vec[target+1:])\n",
    "\t\t\tret_data_set.append(reduced_feat_vec)\n",
    "\treturn ret_data_set\n"
   ],
   "metadata": {
    "collapsed": false,
    "pycharm": {
     "name": "#%%\n"
    }
   }
  },
  {
   "cell_type": "code",
   "execution_count": 28,
   "outputs": [],
   "source": [
    "def accuracy_test(DTree, data, features):\n",
    "    class_label = \"\"\n",
    "    feature = list(DTree.keys())[0]\n",
    "    first_dict = DTree[feature]\n",
    "    index = features.index(feature)\n",
    "    # Based on value choice the child\n",
    "    for i in first_dict.keys():\n",
    "        if index == 12:\n",
    "            index = index - 1\n",
    "        if data[index] == i:\n",
    "            if type(first_dict[i]) == dict:\n",
    "                class_label = accuracy_test(first_dict[i], data, features)\n",
    "            else:\n",
    "                return first_dict[i]\n",
    "    return class_label"
   ],
   "metadata": {
    "collapsed": false,
    "pycharm": {
     "name": "#%%\n"
    }
   }
  },
  {
   "cell_type": "code",
   "execution_count": 29,
   "outputs": [
    {
     "name": "stdout",
     "output_type": "stream",
     "text": [
      "The test accuracy of decision tree: 79.40%\n",
      "The disc of decision tree:0.2709\n"
     ]
    }
   ],
   "source": [
    "labels = [\"age\", \"workclass\", \"fnlwgt\", \"education\", \"education.num\", \"marital.status\", \"occupation\", \"relationship\",\n",
    "            \"race\", \"sex\", \"capital.gain\", \"capital.loss\", \"hours.per.week\", \"native.country\", \"income\"]\n",
    "\n",
    "X_train = X[1000:]\n",
    "X_test = X[:1000]\n",
    "featLabels =[]\n",
    "decisiontree = createTree(X_train.tolist(), features,featLabels)\n",
    "count = 0\n",
    "xtest = X_test.tolist()\n",
    "FG_count, FR_count, DG_count, DR_count = 0, 0, 0, 0\n",
    "for test in xtest:\n",
    "    label = accuracy_test(decisiontree, test, labels)\n",
    "    if label == test[-1]:\n",
    "        count = count + 1\n",
    "    sex = test[9]\n",
    "    if label == \">50K\" and sex == \"Male\":\n",
    "        FG_count += 1\n",
    "    elif label == \"<=50K\" and sex == \"Male\":\n",
    "        FR_count += 1\n",
    "    elif label == \">50K\" and sex == \"Female\":\n",
    "        DG_count += 1\n",
    "    elif label == \"<=50K\" and sex == \"Female\":\n",
    "        DR_count += 1\n",
    "accuracy = float(count / len(xtest))\n",
    "disc = (FG_count / (FG_count + FR_count)) - (DG_count / (DG_count + DR_count))\n",
    "\n",
    "print('The test accuracy of decision tree:{0: .2f}%'.format(accuracy * 100))\n",
    "print('The disc of decision tree:' + format(disc, '.4f'))\n",
    "\n",
    "\n",
    "\n",
    "\n"
   ],
   "metadata": {
    "collapsed": false,
    "pycharm": {
     "name": "#%%\n"
    }
   }
  }
 ],
 "metadata": {
  "kernelspec": {
   "display_name": "Python 3",
   "language": "python",
   "name": "python3"
  },
  "language_info": {
   "codemirror_mode": {
    "name": "ipython",
    "version": 2
   },
   "file_extension": ".py",
   "mimetype": "text/x-python",
   "name": "python",
   "nbconvert_exporter": "python",
   "pygments_lexer": "ipython2",
   "version": "2.7.6"
  }
 },
 "nbformat": 4,
 "nbformat_minor": 0
}